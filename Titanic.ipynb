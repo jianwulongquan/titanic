{
 "cells": [
  {
   "cell_type": "markdown",
   "metadata": {},
   "source": [
    "# 参加kaggle的泰坦尼克项目比赛"
   ]
  },
  {
   "cell_type": "markdown",
   "metadata": {},
   "source": [
    "泰坦尼克生存是kaggle上的一个经典入门项目，参加这个比赛旨在让自己熟悉python常用的数据分析库，并对机器学习有个初步的了解"
   ]
  },
  {
   "cell_type": "code",
   "execution_count": 1,
   "metadata": {},
   "outputs": [],
   "source": [
    "#导入后面用到的各种库\n",
    "import numpy as np\n",
    "import matplotlib.pyplot as plt\n",
    "import seaborn as sns\n",
    "import pandas as pd\n",
    "from sklearn.ensemble import RandomForestRegressor\n",
    "from sklearn.ensemble import RandomForestClassifier\n",
    "from sklearn.model_selection import GridSearchCV\n",
    "from sklearn.model_selection import train_test_split\n",
    "from sklearn import preprocessing\n",
    "from sklearn.model_selection import cross_val_score\n",
    "from sklearn.metrics import roc_curve,auc\n",
    "from sklearn.model_selection import learning_curve\n",
    "from sklearn.ensemble import BaggingClassifier\n",
    "from sklearn.model_selection import validation_curve\n",
    "import warnings\n",
    "warnings.filterwarnings(\"ignore\")"
   ]
  },
  {
   "cell_type": "code",
   "execution_count": 20,
   "metadata": {},
   "outputs": [],
   "source": [
    "#读取分析文件\n",
    "train_data = pd.read_csv('C:/Users/x/Desktop/study2/titanic/train.csv')\n",
    "test_data = pd.read_csv('C:/Users/x/Desktop/study2/titanic/test.csv')"
   ]
  },
  {
   "cell_type": "code",
   "execution_count": 3,
   "metadata": {},
   "outputs": [
    {
     "name": "stdout",
     "output_type": "stream",
     "text": [
      "<class 'pandas.core.frame.DataFrame'>\n",
      "RangeIndex: 891 entries, 0 to 890\n",
      "Data columns (total 12 columns):\n",
      "PassengerId    891 non-null int64\n",
      "Survived       891 non-null int64\n",
      "Pclass         891 non-null int64\n",
      "Name           891 non-null object\n",
      "Sex            891 non-null object\n",
      "Age            714 non-null float64\n",
      "SibSp          891 non-null int64\n",
      "Parch          891 non-null int64\n",
      "Ticket         891 non-null object\n",
      "Fare           891 non-null float64\n",
      "Cabin          204 non-null object\n",
      "Embarked       889 non-null object\n",
      "dtypes: float64(2), int64(5), object(5)\n",
      "memory usage: 83.6+ KB\n"
     ]
    }
   ],
   "source": [
    "#查看训练数据的数据情况，Age列部分数据缺失，Cabin列大量缺失，Embarked列个别缺失\n",
    "train_data.info()"
   ]
  },
  {
   "cell_type": "code",
   "execution_count": 4,
   "metadata": {},
   "outputs": [
    {
     "name": "stdout",
     "output_type": "stream",
     "text": [
      "<class 'pandas.core.frame.DataFrame'>\n",
      "RangeIndex: 418 entries, 0 to 417\n",
      "Data columns (total 11 columns):\n",
      "PassengerId    418 non-null int64\n",
      "Pclass         418 non-null int64\n",
      "Name           418 non-null object\n",
      "Sex            418 non-null object\n",
      "Age            332 non-null float64\n",
      "SibSp          418 non-null int64\n",
      "Parch          418 non-null int64\n",
      "Ticket         418 non-null object\n",
      "Fare           417 non-null float64\n",
      "Cabin          91 non-null object\n",
      "Embarked       418 non-null object\n",
      "dtypes: float64(2), int64(4), object(5)\n",
      "memory usage: 36.0+ KB\n"
     ]
    }
   ],
   "source": [
    "#查看测试数据的情况，Age列部分缺失，Fare列个别缺失，Cabin列大量缺失\n",
    "test_data.info()"
   ]
  },
  {
   "cell_type": "markdown",
   "metadata": {},
   "source": [
    "下面分析一下各个变量对存活率的影响"
   ]
  },
  {
   "cell_type": "code",
   "execution_count": 5,
   "metadata": {},
   "outputs": [
    {
     "data": {
      "text/plain": [
       "<matplotlib.axes._subplots.AxesSubplot at 0x20cee050e80>"
      ]
     },
     "execution_count": 5,
     "metadata": {},
     "output_type": "execute_result"
    },
    {
     "data": {
      "image/png": "[encoded data removed]",
      "text/plain": [
       "<Figure size 432x288 with 1 Axes>"
      ]
     },
     "metadata": {
      "needs_background": "light"
     },
     "output_type": "display_data"
    }
   ],
   "source": [
    "#根据Pclass进行分组，求出不同Pclass的存活率，绘制柱状图进行对比，可以看到1号舱的存活率最高，比3号高一倍多\n",
    "train_data.groupby('Pclass')['Survived'].mean().plot.bar()"
   ]
  },
  {
   "cell_type": "code",
   "execution_count": 8,
   "metadata": {},
   "outputs": [
    {
     "data": {
      "text/plain": [
       "<matplotlib.axes._subplots.AxesSubplot at 0x20cf3646cc0>"
      ]
     },
     "execution_count": 8,
     "metadata": {},
     "output_type": "execute_result"
    },
    {
     "data": {
      "image/png": "[encoded data removed]",
      "text/plain": [
       "<Figure size 432x288 with 1 Axes>"
      ]
     },
     "metadata": {
      "needs_background": "light"
     },
     "output_type": "display_data"
    }
   ],
   "source": [
    "#下面分析Name列，虽然Name列都是唯一的姓名，但是我们通过提取姓名中的称呼，也能了解到它对存活率的影响\n",
    "#通过提取称呼新建title列\n",
    "train_data['title'] = train_data['Name'].map(lambda i:i.split('.')[0].split(',')[1].strip())\n",
    "#因为title列中有部分称呼是相近的，我们将其合并\n",
    "title_dict = {'Capt':'Officer','Col':'Officer','Major':'Officer','Dr':'Officer',\n",
    "              'Rev':'Officer','Don':'Royalty','Sir':'Royalty','the Countess':'Royalty',\n",
    "              'Dona':'Royalty','Lady':'Royalty','Mme':'Mrs','Ms':'Mrs','Mrs':'Mrs',\n",
    "              'Mlle':'Miss','Miss':'Miss','Mr':'Mr','Master':'Master','Jonkheer':'Master'}\n",
    "train_data['title'] = train_data['title'].map(title_dict)\n",
    "#根据title列进行分组，绘制存活率的柱形图\n",
    "#Mrs,Royalty,Miss,Master存活率相对较高，officer和Mr相对较低\n",
    "train_data.groupby('title')['Survived'].mean().sort_values(ascending=False).plot.bar()"
   ]
  },
  {
   "cell_type": "code",
   "execution_count": 9,
   "metadata": {},
   "outputs": [
    {
     "data": {
      "text/plain": [
       "<matplotlib.axes._subplots.AxesSubplot at 0x20cf3709278>"
      ]
     },
     "execution_count": 9,
     "metadata": {},
     "output_type": "execute_result"
    },
    {
     "data": {
      "image/png": "[encoded data removed]",
      "text/plain": [
       "<Figure size 432x288 with 1 Axes>"
      ]
     },
     "metadata": {
      "needs_background": "light"
     },
     "output_type": "display_data"
    }
   ],
   "source": [
    "#下面分析Sex数据，直接根据Sex进行分组，查看存活率情况\n",
    "#女性的存活率大大高出男性\n",
    "train_data.groupby('Sex')['Survived'].mean().plot.bar()"
   ]
  },
  {
   "cell_type": "code",
   "execution_count": 10,
   "metadata": {},
   "outputs": [
    {
     "data": {
      "text/plain": [
       "<seaborn.axisgrid.FacetGrid at 0x20cf3767898>"
      ]
     },
     "execution_count": 10,
     "metadata": {},
     "output_type": "execute_result"
    },
    {
     "data": {
      "image/png": "[encoded data removed]",
      "text/plain": [
       "<Figure size 915.875x216 with 1 Axes>"
      ]
     },
     "metadata": {
      "needs_background": "light"
     },
     "output_type": "display_data"
    }
   ],
   "source": [
    "#接下来了解一下年龄和存活的关系，因为年龄是个连续变量，我们这里通过核密度图来观察\n",
    "#从图中可以看出，约12岁以下的儿童的存活率是较高的\n",
    "facet = sns.FacetGrid(train_data,hue='Survived',aspect=4)\n",
    "facet.map(sns.kdeplot,'Age',shade=True)\n",
    "facet.set(xlim=(0,train_data.Age.max()))\n",
    "facet.add_legend()"
   ]
  },
  {
   "cell_type": "code",
   "execution_count": 12,
   "metadata": {},
   "outputs": [
    {
     "data": {
      "text/plain": [
       "<matplotlib.axes._subplots.AxesSubplot at 0x20cf3939940>"
      ]
     },
     "execution_count": 12,
     "metadata": {},
     "output_type": "execute_result"
    },
    {
     "data": {
      "image/png": "[encoded data removed]",
      "text/plain": [
       "<Figure size 432x288 with 3 Axes>"
      ]
     },
     "metadata": {
      "needs_background": "light"
     },
     "output_type": "display_data"
    }
   ],
   "source": [
    "#再来分析SibSp和Parch以及两者合并后的存活情况\n",
    "#这里绘制了三个柱状图来观察\n",
    "#兄弟姐妹1-2个，父母子女1-3个，家庭规模2-4人的情况下，存活率较高\n",
    "fig = plt.figure()\n",
    "ax1 = fig.add_subplot(221)\n",
    "train_data.groupby('SibSp')['Survived'].mean().plot.bar()\n",
    "ax2 = fig.add_subplot(222)\n",
    "train_data.groupby('Parch')['Survived'].mean().plot.bar()\n",
    "ax3 = fig.add_subplot(223)\n",
    "family = train_data.SibSp + train_data.Parch + 1\n",
    "train_data.groupby(family)['Survived'].mean().plot.bar()"
   ]
  },
  {
   "cell_type": "code",
   "execution_count": 13,
   "metadata": {},
   "outputs": [
    {
     "data": {
      "text/plain": [
       "<matplotlib.axes._subplots.AxesSubplot at 0x20cf38f5ba8>"
      ]
     },
     "execution_count": 13,
     "metadata": {},
     "output_type": "execute_result"
    },
    {
     "data": {
      "image/png": "[encoded data removed]",
      "text/plain": [
       "<Figure size 432x288 with 1 Axes>"
      ]
     },
     "metadata": {
      "needs_background": "light"
     },
     "output_type": "display_data"
    }
   ],
   "source": [
    "#分析Fare数据\n",
    "#查看票价分布的直方图，绝大部分的票价都在50以下\n",
    "train_data.Fare.hist(bins=60)"
   ]
  },
  {
   "cell_type": "code",
   "execution_count": 15,
   "metadata": {},
   "outputs": [
    {
     "data": {
      "text/plain": [
       "<seaborn.axisgrid.FacetGrid at 0x20cf3afa128>"
      ]
     },
     "execution_count": 15,
     "metadata": {},
     "output_type": "execute_result"
    },
    {
     "data": {
      "image/png": "[encoded data removed]",
      "text/plain": [
       "<Figure size 915.875x216 with 1 Axes>"
      ]
     },
     "metadata": {
      "needs_background": "light"
     },
     "output_type": "display_data"
    }
   ],
   "source": [
    "#绘制核密度图查看票价对应的存活情况，可以看到票价越高对应存活率也越高\n",
    "facet = sns.FacetGrid(train_data,hue='Survived',aspect=4)\n",
    "facet.map(sns.kdeplot,'Fare',shade=True)\n",
    "facet.set(xlim=(0,train_data.Fare.max()))\n",
    "facet.add_legend()"
   ]
  },
  {
   "cell_type": "code",
   "execution_count": 16,
   "metadata": {},
   "outputs": [
    {
     "data": {
      "text/plain": [
       "<matplotlib.axes._subplots.AxesSubplot at 0x20cf3c9de48>"
      ]
     },
     "execution_count": 16,
     "metadata": {},
     "output_type": "execute_result"
    },
    {
     "data": {
      "image/png": "[encoded data removed]",
      "text/plain": [
       "<Figure size 432x288 with 1 Axes>"
      ]
     },
     "metadata": {
      "needs_background": "light"
     },
     "output_type": "display_data"
    }
   ],
   "source": [
    "#将票价分割为若干个区间，查看每个区间的存活率\n",
    "fare_cut = pd.qcut(train_data.Fare,5)    #分为数量相等的5个区间\n",
    "#票价更高的存活率相对更高\n",
    "train_data.groupby(fare_cut)['Survived'].mean().plot.bar()"
   ]
  },
  {
   "cell_type": "code",
   "execution_count": 5,
   "metadata": {},
   "outputs": [
    {
     "data": {
      "text/plain": [
       "<matplotlib.axes._subplots.AxesSubplot at 0x18392671320>"
      ]
     },
     "execution_count": 5,
     "metadata": {},
     "output_type": "execute_result"
    },
    {
     "data": {
      "image/png": "[encoded data removed]",
      "text/plain": [
       "<Figure size 432x288 with 1 Axes>"
      ]
     },
     "metadata": {
      "needs_background": "light"
     },
     "output_type": "display_data"
    }
   ],
   "source": [
    "#分析登船点Embarked对存活的影响，C港登船的人存活率相对较高\n",
    "train_data.groupby('Embarked')['Survived'].mean().plot.bar()"
   ]
  },
  {
   "cell_type": "code",
   "execution_count": null,
   "metadata": {},
   "outputs": [],
   "source": [
    "#由于Cabin的缺失数据过多，这里就不对其进行分析了，特征工程处理时会将其删除"
   ]
  },
  {
   "cell_type": "code",
   "execution_count": 20,
   "metadata": {},
   "outputs": [
    {
     "name": "stdout",
     "output_type": "stream",
     "text": [
      "<class 'pandas.core.frame.DataFrame'>\n",
      "Int64Index: 1309 entries, 0 to 417\n",
      "Data columns (total 12 columns):\n",
      "Age            1046 non-null float64\n",
      "Cabin          295 non-null object\n",
      "Embarked       1307 non-null object\n",
      "Fare           1308 non-null float64\n",
      "Name           1309 non-null object\n",
      "Parch          1309 non-null int64\n",
      "PassengerId    1309 non-null int64\n",
      "Pclass         1309 non-null int64\n",
      "Sex            1309 non-null object\n",
      "SibSp          1309 non-null int64\n",
      "Survived       1309 non-null int64\n",
      "Ticket         1309 non-null object\n",
      "dtypes: float64(2), int64(5), object(5)\n",
      "memory usage: 132.9+ KB\n"
     ]
    }
   ],
   "source": [
    "#对各变量分析完毕，生存率影响主要因素有舱位，称呼，性别，年龄，家庭规模，票价，上船地点这几个，下面进行特征工程\n",
    "train_df = pd.read_csv('C:/Users/x/Desktop/study2/titanic/train.csv')\n",
    "test_df = pd.read_csv('C:/Users/x/Desktop/study2/titanic/test.csv')\n",
    "test_df['Survived'] = 0    #给测试数据新增Survived列，用0填充\n",
    "df = pd.concat([train_df,test_df])     #合并测试和训练数据\n",
    "df.info()     "
   ]
  },
  {
   "cell_type": "code",
   "execution_count": 21,
   "metadata": {},
   "outputs": [],
   "source": [
    "#缺失的Embarked用众数进行填充\n",
    "df.Embarked.fillna(df.Embarked.mode()[0],inplace=True)"
   ]
  },
  {
   "cell_type": "code",
   "execution_count": 22,
   "metadata": {},
   "outputs": [],
   "source": [
    "#因为Embarked是分类数据，通过get_dummies将其转为哑变量，并将原数据one-hot编码\n",
    "embarked_dummy = pd.get_dummies(df.Embarked,prefix='Embarked')\n",
    "df = pd.concat([df,embarked_dummy],axis=1)\n",
    "df.Embarked = pd.factorize(df.Embarked)[0]"
   ]
  },
  {
   "cell_type": "code",
   "execution_count": 24,
   "metadata": {},
   "outputs": [],
   "source": [
    "#Cabin列由于缺失过多，直接舍弃\n",
    "df.drop('Cabin',axis=1,inplace=True)"
   ]
  },
  {
   "cell_type": "code",
   "execution_count": 35,
   "metadata": {},
   "outputs": [],
   "source": [
    "#Fare列只有一个缺失值，用该乘客船舱对应的票价均值进行填充\n",
    "df.Fare.fillna(df.groupby('Pclass')['Fare'].transform('mean').loc[df.Fare.isnull()].values[0],inplace=True)"
   ]
  },
  {
   "cell_type": "code",
   "execution_count": 37,
   "metadata": {},
   "outputs": [],
   "source": [
    "#将票价分为四个区间，并转为哑变量\n",
    "fare_dummy = pd.get_dummies(pd.qcut(df.Fare,4),prefix='Fare')\n",
    "df = pd.concat([df,fare_dummy],axis=1)"
   ]
  },
  {
   "cell_type": "code",
   "execution_count": 69,
   "metadata": {},
   "outputs": [],
   "source": [
    "#Fare是连续变量且分布较宽，对其进行标准化\n",
    "scale_fare = preprocessing.StandardScaler().fit(df.Fare.values.reshape(-1,1))\n",
    "df.Fare = scale_fare.transform(df.Fare.values.reshape(-1,1))"
   ]
  },
  {
   "cell_type": "code",
   "execution_count": 41,
   "metadata": {},
   "outputs": [],
   "source": [
    "#对Name进行处理，提取称呼，转为哑变量，原列one-hot编码\n",
    "df['title'] = df.Name.map(lambda x:x.split('.')[0].split(',')[1].strip())\n",
    "title_dict = {'Capt':'Officer','Col':'Officer','Major':'Officer','Dr':'Officer',\n",
    "              'Rev':'Officer','Don':'Royalty','Sir':'Royalty','the Countess':'Royalty',\n",
    "              'Dona':'Royalty','Lady':'Royalty','Mme':'Mrs','Ms':'Mrs','Mrs':'Mrs',\n",
    "              'Mlle':'Miss','Miss':'Miss','Mr':'Mr','Master':'Master','Jonkheer':'Master'}\n",
    "df['title'] = df['title'].map(title_dict)\n",
    "title_dummy = pd.get_dummies(df.title,prefix='title')\n",
    "df = pd.concat([df,title_dummy],axis=1)\n",
    "df.title = pd.factorize(df.title)[0]"
   ]
  },
  {
   "cell_type": "code",
   "execution_count": 43,
   "metadata": {},
   "outputs": [],
   "source": [
    "#将SibSp和Parch列合并为family列，根据人数分为三类\n",
    "df['family_num'] = df.SibSp + df.Parch + 1\n",
    "df['family_type'] = 0\n",
    "df['family_type'][df.family_num == 1] = 'small_family'\n",
    "df['family_type'][(df.family_num < 5) & (df.family_num >1)] = 'middle_family'\n",
    "df['family_type'][df.family_num >=5 ] = 'big_family'\n",
    "family_type_dummy = pd.get_dummies(df.family_type)\n",
    "df = pd.concat([df,family_type_dummy],axis=1)\n",
    "df.family_type = pd.factorize(df.family_type)[0]"
   ]
  },
  {
   "cell_type": "code",
   "execution_count": 45,
   "metadata": {},
   "outputs": [],
   "source": [
    "#处理Pclass列，将其转为哑变量，原来的数据one-hot编码\n",
    "pclass_dummy = pd.get_dummies(df.Pclass,prefix='Pclass')\n",
    "df = pd.concat([df,pclass_dummy],axis=1)\n",
    "df.Pclass = pd.factorize(df.Pclass)[0]"
   ]
  },
  {
   "cell_type": "code",
   "execution_count": 46,
   "metadata": {},
   "outputs": [],
   "source": [
    "#处理Sex变量，转为哑变量，原数据factorize\n",
    "sex_dummy = pd.get_dummies(df.Sex,prefix='Sex')\n",
    "df = pd.concat([df,sex_dummy],axis=1)\n",
    "df.Sex = pd.factorize(df.Sex)[0]"
   ]
  },
  {
   "cell_type": "code",
   "execution_count": 88,
   "metadata": {},
   "outputs": [],
   "source": [
    "#Age列缺少了部分数据，这里通过建立模型来预测缺失的Age数据\n",
    "age_notnull = df[df.Age.notnull()]\n",
    "age_null = df[df.Age.isnull()]\n",
    "age_factor = age_notnull[['Age','Parch','Pclass','SibSp','Fare','title','family_num','family_type','Sex']]\n",
    "rf = RandomForestRegressor(n_estimators=1000,random_state=0)     #建立随机森林模型\n",
    "rf.fit(age_factor.drop(['Age'],axis=1),age_factor.Age)    #训练模型\n",
    "age_predict = rf.predict(age_null[['Parch','Pclass','SibSp','Fare','title','family_num','family_type','Sex']])     #预测缺失年龄\n",
    "df.Age.loc[df.Age.isnull()] = age_predict      #用预测值填充缺失部分"
   ]
  },
  {
   "cell_type": "code",
   "execution_count": 89,
   "metadata": {},
   "outputs": [
    {
     "name": "stdout",
     "output_type": "stream",
     "text": [
      "<class 'pandas.core.frame.DataFrame'>\n",
      "Int64Index: 1309 entries, 0 to 417\n",
      "Data columns (total 35 columns):\n",
      "Age                       1309 non-null float64\n",
      "Embarked                  1309 non-null int64\n",
      "Fare                      1309 non-null float64\n",
      "Name                      1309 non-null object\n",
      "Parch                     1309 non-null int64\n",
      "PassengerId               1309 non-null int64\n",
      "Pclass                    1309 non-null int64\n",
      "Sex                       1309 non-null int64\n",
      "SibSp                     1309 non-null int64\n",
      "Survived                  1309 non-null int64\n",
      "Ticket                    1309 non-null object\n",
      "Embarked_C                1309 non-null uint8\n",
      "Embarked_Q                1309 non-null uint8\n",
      "Embarked_S                1309 non-null uint8\n",
      "Fare_(-0.001, 7.896]      1309 non-null uint8\n",
      "Fare_(7.896, 14.454]      1309 non-null uint8\n",
      "Fare_(14.454, 31.275]     1309 non-null uint8\n",
      "Fare_(31.275, 512.329]    1309 non-null uint8\n",
      "title                     1309 non-null int64\n",
      "title_Master              1309 non-null uint8\n",
      "title_Miss                1309 non-null uint8\n",
      "title_Mr                  1309 non-null uint8\n",
      "title_Mrs                 1309 non-null uint8\n",
      "title_Officer             1309 non-null uint8\n",
      "title_Royalty             1309 non-null uint8\n",
      "family_num                1309 non-null int64\n",
      "family_type               1309 non-null int64\n",
      "big_family                1309 non-null uint8\n",
      "middle_family             1309 non-null uint8\n",
      "small_family              1309 non-null uint8\n",
      "Pclass_1                  1309 non-null uint8\n",
      "Pclass_2                  1309 non-null uint8\n",
      "Pclass_3                  1309 non-null uint8\n",
      "Sex_female                1309 non-null uint8\n",
      "Sex_male                  1309 non-null uint8\n",
      "dtypes: float64(2), int64(10), object(2), uint8(21)\n",
      "memory usage: 180.2+ KB\n"
     ]
    }
   ],
   "source": [
    "df.info()"
   ]
  },
  {
   "cell_type": "code",
   "execution_count": 96,
   "metadata": {},
   "outputs": [],
   "source": [
    "#对Age也进行标准化处理\n",
    "scale_age = preprocessing.StandardScaler().fit(df.Age.values.reshape(-1,1))\n",
    "df.Age = scale_age.transform(df.Age.values.reshape(-1,1))"
   ]
  },
  {
   "cell_type": "code",
   "execution_count": 101,
   "metadata": {},
   "outputs": [],
   "source": [
    "#至此，特征工程已经处理完毕，然后进行建模，先选取需要的数据\n",
    "df_train = df.drop(['Name','PassengerId','Ticket'],axis=1)\n",
    "X = df_train.drop(['Survived'],axis=1)[:891]\n",
    "y = df_train.Survived[:891]"
   ]
  },
  {
   "cell_type": "code",
   "execution_count": 103,
   "metadata": {},
   "outputs": [
    {
     "data": {
      "image/png": "[encoded data removed]",
      "text/plain": [
       "<Figure size 432x288 with 1 Axes>"
      ]
     },
     "metadata": {
      "needs_background": "light"
     },
     "output_type": "display_data"
    }
   ],
   "source": [
    "#使用validation_curve进行调参\n",
    "model = RandomForestClassifier(random_state=0)\n",
    "param_test = np.arange(10,210,10)\n",
    "train_loss,test_loss = validation_curve(model,X,y,param_name='n_estimators',param_range=param_test,cv=10)\n",
    "train_loss = 1 - np.mean(train_loss,axis=1)\n",
    "test_loss = 1 - np.mean(test_loss,axis=1)\n",
    "plt.plot(param_test,train_loss,'o-',color='r',label='training')\n",
    "plt.plot(param_test,test_loss,'o-',color='g',label='testing')\n",
    "plt.legend(loc='best')\n",
    "plt.show()"
   ]
  },
  {
   "cell_type": "code",
   "execution_count": 104,
   "metadata": {},
   "outputs": [
    {
     "name": "stdout",
     "output_type": "stream",
     "text": [
      "[0.8        0.84444444 0.75280899 0.85393258 0.8988764  0.85393258\n",
      " 0.85393258 0.76404494 0.85393258 0.84090909]\n",
      "0.8316814209510838\n"
     ]
    }
   ],
   "source": [
    "#分别调整了参数n_estimators,max_features,min_samples_split,min_samples_leaf,max_depth\n",
    "model = RandomForestClassifier(n_estimators=100,max_features=21,min_samples_split=2,min_samples_leaf=3,\n",
    "                               max_depth=15,random_state=0,n_jobs=-1)\n",
    "#对模型进行交叉验证\n",
    "scores = cross_val_score(model,X,y,cv=10,scoring='accuracy')\n",
    "print(scores)\n",
    "print(scores.mean())\n",
    "#模型的准确率在0.83左右"
   ]
  },
  {
   "cell_type": "code",
   "execution_count": 105,
   "metadata": {},
   "outputs": [
    {
     "data": {
      "text/plain": [
       "<matplotlib.legend.Legend at 0x1f92ab8eb38>"
      ]
     },
     "execution_count": 105,
     "metadata": {},
     "output_type": "execute_result"
    },
    {
     "data": {
      "image/png": "[encoded data removed]",
      "text/plain": [
       "<Figure size 432x288 with 1 Axes>"
      ]
     },
     "metadata": {
      "needs_background": "light"
     },
     "output_type": "display_data"
    }
   ],
   "source": [
    "#接下来绘制学习曲线判断模型的拟合程度\n",
    "train_sizes,train_loss,test_loss = learning_curve(model,X,y,cv=10,train_sizes=[0.1,0.25,0.5,0.75,1.0])\n",
    "train_loss_mean = 1 - np.mean(train_loss,axis=1)\n",
    "test_loss_mean = 1 - np.mean(test_loss,axis=1)\n",
    "plt.plot(train_sizes,train_loss_mean,'o-',color='r',label='training')\n",
    "plt.plot(train_sizes,test_loss_mean,'o-',color='g',label='cross-validation')\n",
    "plt.xlabel('training example')\n",
    "plt.ylabel('loss')\n",
    "plt.legend(loc='best')"
   ]
  },
  {
   "cell_type": "code",
   "execution_count": 106,
   "metadata": {},
   "outputs": [
    {
     "data": {
      "text/plain": [
       "<matplotlib.legend.Legend at 0x1f92d586f28>"
      ]
     },
     "execution_count": 106,
     "metadata": {},
     "output_type": "execute_result"
    },
    {
     "data": {
      "image/png": "[encoded data removed]",
      "text/plain": [
       "<Figure size 432x288 with 1 Axes>"
      ]
     },
     "metadata": {
      "needs_background": "light"
     },
     "output_type": "display_data"
    }
   ],
   "source": [
    "#似乎模型有些过拟合，试试融合模型\n",
    "#融合模型的学习曲线\n",
    "model = RandomForestClassifier(n_estimators=100,max_features=21,min_samples_split=2,min_samples_leaf=3,\n",
    "                               max_depth=15,random_state=0,n_jobs=-1)\n",
    "bagging_rf = BaggingClassifier(model,n_estimators=20,max_samples=0.8,max_features=1.0,bootstrap=True)\n",
    "train_sizes,train_loss,test_loss=learning_curve(bagging_rf,X,y,cv=10,\n",
    "                                                train_sizes=[0.1,0.25,0.5,0.75,1.0])\n",
    "train_loss_mean=1-np.mean(train_loss,axis=1)\n",
    "test_loss_mean=1-np.mean(test_loss,axis=1)\n",
    "plt.plot(train_sizes,train_loss_mean,'o-',color='r',label='Training')\n",
    "plt.plot(train_sizes,test_loss_mean,'o-',color='g',label='Cross-validation')\n",
    "plt.xlabel('Training examplt')\n",
    "plt.ylabel('Loss')\n",
    "plt.legend(loc='best')"
   ]
  },
  {
   "cell_type": "code",
   "execution_count": 107,
   "metadata": {},
   "outputs": [],
   "source": [
    "#融合模型的从曲线上看两曲线接近了一些，下面使用融合模型进行预测\n",
    "bagging_rf.fit(X,y)\n",
    "survived_predict = bagging_rf.predict(df_train.drop(['Survived'],axis=1)[891:])\n",
    "df.loc[:,'Survived'].iloc[891:] = survived_predict\n",
    "df.iloc[891:].loc[:,['PassengerId','Survived']].to_csv('C:/Users/x/Desktop/study2/titanic/predict10.csv')\n",
    "#提交结果的分数是0.78947，名次在两千多名，约20%"
   ]
  }
 ],
 "metadata": {
  "kernelspec": {
   "display_name": "Python 3",
   "language": "python",
   "name": "python3"
  },
  "language_info": {
   "codemirror_mode": {
    "name": "ipython",
    "version": 3
   },
   "file_extension": ".py",
   "mimetype": "text/x-python",
   "name": "python",
   "nbconvert_exporter": "python",
   "pygments_lexer": "ipython3",
   "version": "3.7.3"
  }
 },
 "nbformat": 4,
 "nbformat_minor": 2
}
